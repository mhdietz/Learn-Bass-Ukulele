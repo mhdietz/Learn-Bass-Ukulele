{
 "cells": [
  {
   "cell_type": "markdown",
   "metadata": {},
   "source": [
    "## Learn Bass Ukulele"
   ]
  },
  {
   "cell_type": "markdown",
   "metadata": {},
   "source": [
    "### Background Reading\n",
    "1. [How Bass Ukes Came About](https://ehomerecordingstudio.com/bass-ukulele/)\n",
    "2. [Primer including tuning, notes on the fretboard, and briefing on playing in groups](https://usgb.co.uk/PlayBass)"
   ]
  },
  {
   "cell_type": "markdown",
   "metadata": {},
   "source": [
    "### Learning\n",
    "There are lots of lessons available. I found the lessons below to be easier to listen to and pretty helpful based on skimming through the first couple lessons. It may be worth watching some of these to get started. There are tons of tutorials out there so feel free to splore if these aren't doing it for you. \n",
    "\n",
    "#### Lessons\n",
    "[Bass Ukulele Lesson 1 - Beginner U Bass Tutorial](https://www.youtube.com/watch?v=qEsx5CvJSGY): Tuning bass ukuleles, bass ukulele straps, holding your bass uke, plugging into amp, plucking strings and open bass strings.\n",
    "\n",
    "[Bass Ukulele Lesson 2 - Beginner U Bass Tutorial - Learn Your Bass Uke Notes](https://www.youtube.com/watch?v=W63-jNc5ZcY): Learning where the notes are on the E and A strings on your bass ukuleles the easy way - then practicing them using ukulele play along videos. We start to learn where the notes are on our bass fretboards and I even give you a little test!\n",
    "\n",
    "[Bass Ukulele Lesson 3 - Beginner U Bass Tutorial - Learn Your Bass Uke Notes & Octaves](https://www.youtube.com/watch?v=fRXy403IyMw): Learning where the notes are on the D and G strings on your bass ukuleles the easy way - then practicing them using ukulele play along videos. Also, we practice and learn the notes on all four strings and talk about octaves.\n",
    "\n",
    "[Bass Ukulele Lesson 4 - Beginner U Bass Tutorial - Learn Your Bass Uke Notes #s & bs](https://www.youtube.com/watch?v=FVINpnUzWmU&list=PLYmTmr75ouDy5EiUsdt0NZOCspJU3diSI&index=4): Learning all the notes for the first 4 frets of bass ukulele including explaining about accidentals - sharps and flats and again talking about octaves.\n",
    "\n",
    "[Here’s the whole playlist of this person’s lessons if you’re finding them helpful](https://www.youtube.com/playlist?list=PLYmTmr75ouDy5EiUsdt0NZOCspJU3diSI)\n",
    "\n",
    "#### Useful Things\n",
    "[Bass Tabs on Bass Ukulele](https://www.youtube.com/watch?v=AJWOv9nsNds): How To Read Bass Tabs On Bass Ukulele.\n"
   ]
  },
  {
   "cell_type": "markdown",
   "metadata": {},
   "source": [
    "### Songs to Practice\n",
    "\n",
    "#### Easy\n",
    "1. [Will You Still Love Me Tomorrow - Carole King](https://tabs.ultimate-guitar.com/tab/carole-king/will-you-still-love-me-tomorrow-bass-1896939)\n",
    "2. [Give Me One Reason to Stay Here - Tracy Chapman](https://www.bigbasstabs.com/tracy_chapman_bass_tabs/give_me_one_reason.html)\n",
    "\n",
    "#### Medium\n",
    "1. [Thinking Out Loud - Ed Sheeran](https://www.youtube.com/watch?v=FhHBhyeUf1s)\n",
    "2. [La Bamba](https://www.youtube.com/watch?v=gN_idA7WL_g)\n",
    "3. [Riptide - Vance Joy](https://www.youtube.com/watch?v=kvqgEvXt5GI)\n",
    "\n",
    "#### Hard (meant to be inspiration / show what's possible)\n",
    "1. [Stand By Me](https://www.youtube.com/watch?v=mzp6ske_POM)\n",
    "2. [Sir Duke - Stevie Wonder](https://www.youtube.com/watch?v=CfffmBWCry0)\n",
    "3. [Pachelbel Canon in D](https://www.youtube.com/watch?v=0svPBsWrM5E)\n",
    "4. [What's Going On - Marvin Gaye](https://www.youtube.com/watch?v=9YbKCYKe4jA)"
   ]
  }
 ],
 "metadata": {
  "kernelspec": {
   "display_name": "Python 3",
   "language": "python",
   "name": "python3"
  },
  "language_info": {
   "codemirror_mode": {
    "name": "ipython",
    "version": 3
   },
   "file_extension": ".py",
   "mimetype": "text/x-python",
   "name": "python",
   "nbconvert_exporter": "python",
   "pygments_lexer": "ipython3",
   "version": "3.8.5"
  }
 },
 "nbformat": 4,
 "nbformat_minor": 4
}
